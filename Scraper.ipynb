{
  "cells": [
    {
      "cell_type": "markdown",
      "metadata": {
        "id": "gvtNz-Sh6v_r"
      },
      "source": [
        "# Name: Talha Ali Khan"
      ]
    },
    {
      "cell_type": "code",
      "execution_count": null,
      "metadata": {
        "id": "ok9irGOf6v_1"
      },
      "outputs": [],
      "source": [
        "import requests\n",
        "from bs4 import BeautifulSoup\n",
        "from selenium import webdriver\n",
        "import pandas as pd\n",
        "import numpy as np\n",
        "import re"
      ]
    },
    {
      "cell_type": "markdown",
      "metadata": {
        "id": "5lb0ogLo6v_4"
      },
      "source": [
        "# Uncomment below input statement to take input, otherwise default input is 'Mobile Covers'"
      ]
    },
    {
      "cell_type": "code",
      "execution_count": null,
      "metadata": {
        "id": "X1LJWM5r6v_4"
      },
      "outputs": [],
      "source": [
        "q = \"Mobile Covers\"\n",
        "\n",
        "# Uncomment below statement to take input, otherwise default input will be 'Mobile Covers'\n",
        "\n",
        "# q = input(\"Input: \")\n",
        "\n",
        "q = q.replace(\" \" , \"+\")"
      ]
    },
    {
      "cell_type": "code",
      "execution_count": null,
      "metadata": {
        "id": "yWVVb4pa6v_5"
      },
      "outputs": [],
      "source": [
        "# Download and parse the HTML\n",
        "host = 'www.daraz.pk'\n",
        "path = '/catalog/'\n",
        "\n",
        "#.home.search.go.35e34937tjgEy0\n",
        "query_string = f'?q={q}&_keyori=ss&from=input&spm=a2a0e'\n",
        "\n",
        "start_url = f'https://{host}{path}{query_string}'\n",
        "\n",
        "# Download the HTML from start_url\n",
        "driver = webdriver.Chrome()\n",
        "driver.get(start_url)\n",
        "downloaded_html = driver.page_source\n",
        "\n",
        "# Parse the HTML with BeautifulSoup and create a soup object\n",
        "soup = BeautifulSoup(downloaded_html, \"html.parser\")"
      ]
    },
    {
      "cell_type": "markdown",
      "metadata": {
        "id": "HCUxW8986v_7"
      },
      "source": [
        "# Uncomment below input statement to take input, otherwise default number_of_items is '5'"
      ]
    },
    {
      "cell_type": "code",
      "execution_count": null,
      "metadata": {
        "id": "TriQIeFY6v_8"
      },
      "outputs": [],
      "source": [
        "number_of_items = 5\n",
        "\n",
        "# Uncomment below statement to take input, otherwise only first 5 items are displayed\n",
        "\n",
        "# number_of_items = input(\"Enter number of items to be displayed: \")"
      ]
    },
    {
      "cell_type": "code",
      "execution_count": null,
      "metadata": {
        "id": "-ke6Uz8I6v_9"
      },
      "outputs": [],
      "source": [
        "name = []\n",
        "darazMall = []\n",
        "price = []\n",
        "orig = []\n",
        "rating = []\n",
        "country = []\n",
        "reviews = []\n",
        "\n",
        "sellers = (soup.find('div',{'class':'c1DXz4'})).find('span').get_text()\n",
        "sellers = sellers.replace(' items found for \"', '') \n",
        "\n",
        "for i in range(0,number_of_items):\n",
        "    s = 0\n",
        "    t1 = (soup.find_all('div',{'class':'c16H9d'})[i]).find('a')\n",
        "    name.append(t1.get_text()) \n",
        "    \n",
        "    t2 = (soup.find_all('span',{'class':'c13VH6'})[i])\n",
        "    price.append(t2.get_text()) \n",
        "    price = [p.replace('Rs. ', '') for p in price]\n",
        "    price = [p.replace(',', '') for p in price]\n",
        "    \n",
        "    if( soup.find_all('div',{'class':'c3KeDq'})[i]).find('del',{'class':'c13VH6'} ):\n",
        "        orig.append((soup.find_all('div',{'class':'c3KeDq'})[i]).find('del',{'class':'c13VH6'}).get_text())\n",
        "    else:\n",
        "        orig.append(price[i])\n",
        "    original_price = [p.replace('Rs. ', '') for p in orig]\n",
        "    original_price = [p.replace(',', '') for p in original_price]\n",
        "    \n",
        "    t4 = (soup.find_all('span',{'class':'c2i43-'})[i])\n",
        "    country.append(t4.get_text()) \n",
        "    \n",
        "    r = (soup.find_all('div',{'class':'c15YQ9'})[i]).get_text()       \n",
        "    reviews.append(re.sub('\\D', '', r))\n",
        "    reviews = ['0' if val == '' else val for val in reviews]\n",
        "    reviews = list(map(int, reviews))\n",
        "\n",
        "    if( soup.find_all('div',{'class':'c15YQ9'})[i].find('div',{'class':'c2JB4x c6Ntq9'}) ):\n",
        "        t5 = soup.find_all('div',{'class':'c15YQ9'})[i].find('div',{'class':'c2JB4x c6Ntq9'})\n",
        "\n",
        "        f = t5.find_all('i',{'class':'c3dn4k c3EEAg'})\n",
        "        s = len(f)\n",
        "\n",
        "        if(t5.find('i', {'class':'c3dn4k c1wCjy'})):\n",
        "            s = s + 0.9\n",
        "        if(t5.find('i', {'class':'c3dn4k c3DcGB'})):\n",
        "            s = s + 0.75\n",
        "        if(t5.find('i', {'class':'c3dn4k c1e2gb'})):\n",
        "            s = s + 0.5    \n",
        "        if(t5.find('i', {'class':'c3dn4k c3An30'})):\n",
        "            s = s + 0.5    \n",
        "        if(t5.find('i', {'class':'c3dn4k cbDGcO'})):\n",
        "            s = s + 0.25        \n",
        "        if(t5.find('i', {'class':'c3dn4k c3fsPU'})):\n",
        "            s = s + 0.25   \n",
        "        if(t5.find('i', {'class':'c3dn4k c1Zozd'})):\n",
        "            s = s + 0.1 \n",
        "    else:\n",
        "        s = 0\n",
        "    rating.append(s)  \n",
        "    \n",
        "    if(soup.find_all('div',{'class':'c3vCyH'})[i].find('i')):\n",
        "        darazMall.append('Yes')\n",
        "    else:\n",
        "        darazMall.append('No')\n",
        "        \n",
        "    discounted_price = list(map(int, price))"
      ]
    },
    {
      "cell_type": "code",
      "execution_count": null,
      "metadata": {
        "id": "il7kQR5T6v__"
      },
      "outputs": [],
      "source": [
        "data = {'Name' : name ,\n",
        "        'Daraz Mall?' : darazMall ,\n",
        "        'Original Price' : original_price ,\n",
        "        'Discounted Price' : discounted_price ,\n",
        "        'Rating' : rating,\n",
        "        'Reviews' : reviews ,\n",
        "        'Seller Country' : country  }        \n",
        "\n",
        "df = pd.DataFrame(data)\n",
        "driver.quit()"
      ]
    },
    {
      "cell_type": "markdown",
      "metadata": {
        "id": "oJWHcOGy6wAA"
      },
      "source": [
        "# Output"
      ]
    },
    {
      "cell_type": "code",
      "execution_count": null,
      "metadata": {
        "id": "GRz_VUB26wAA",
        "outputId": "22ddde6c-172f-45eb-9b05-46db5e541ead"
      },
      "outputs": [
        {
          "name": "stdout",
          "output_type": "stream",
          "text": [
            "Total Seller: 1580553 \n",
            " Avg Price: 578.4 \n",
            " Avg Reviews: 32.8 \n",
            " Avg Rating: 4.6\n"
          ]
        }
      ],
      "source": [
        "print(\"Total Seller:\", sellers ,\n",
        "      \"\\n\",\"Avg Price:\",round(np.average(discounted_price),1),\n",
        "      \"\\n\",\"Avg Reviews:\",round(np.average(reviews),1),\n",
        "      \"\\n\",\"Avg Rating:\",round(np.average(rating),1) )"
      ]
    },
    {
      "cell_type": "code",
      "execution_count": null,
      "metadata": {
        "id": "wyGMC--k6wAC",
        "outputId": "024ce17a-4a4e-4c2e-9a8b-f5fdfe05070a"
      },
      "outputs": [
        {
          "data": {
            "text/html": [
              "<div>\n",
              "<style scoped>\n",
              "    .dataframe tbody tr th:only-of-type {\n",
              "        vertical-align: middle;\n",
              "    }\n",
              "\n",
              "    .dataframe tbody tr th {\n",
              "        vertical-align: top;\n",
              "    }\n",
              "\n",
              "    .dataframe thead th {\n",
              "        text-align: right;\n",
              "    }\n",
              "</style>\n",
              "<table border=\"1\" class=\"dataframe\">\n",
              "  <thead>\n",
              "    <tr style=\"text-align: right;\">\n",
              "      <th></th>\n",
              "      <th>Name</th>\n",
              "      <th>Daraz Mall?</th>\n",
              "      <th>Original Price</th>\n",
              "      <th>Discounted Price</th>\n",
              "      <th>Rating</th>\n",
              "      <th>Reviews</th>\n",
              "      <th>Seller Country</th>\n",
              "    </tr>\n",
              "  </thead>\n",
              "  <tbody>\n",
              "    <tr>\n",
              "      <th>0</th>\n",
              "      <td>Vantime for Xiaomi Redmi Note 10 Pro Case Hybr...</td>\n",
              "      <td>Yes</td>\n",
              "      <td>1009</td>\n",
              "      <td>1009</td>\n",
              "      <td>4.0</td>\n",
              "      <td>21</td>\n",
              "      <td>China</td>\n",
              "    </tr>\n",
              "    <tr>\n",
              "      <th>1</th>\n",
              "      <td>Vantime for Xiaomi POCO X3 Pro / POCO X3 NFC B...</td>\n",
              "      <td>Yes</td>\n",
              "      <td>1099</td>\n",
              "      <td>1009</td>\n",
              "      <td>4.0</td>\n",
              "      <td>43</td>\n",
              "      <td>China</td>\n",
              "    </tr>\n",
              "    <tr>\n",
              "      <th>2</th>\n",
              "      <td>CUSTOMIZED MOBILE COVER FOR ALL MODELS</td>\n",
              "      <td>No</td>\n",
              "      <td>999</td>\n",
              "      <td>450</td>\n",
              "      <td>4.9</td>\n",
              "      <td>7</td>\n",
              "      <td>Pakistan</td>\n",
              "    </tr>\n",
              "    <tr>\n",
              "      <th>3</th>\n",
              "      <td>WATERPROOF MOBILE COVER</td>\n",
              "      <td>No</td>\n",
              "      <td>299</td>\n",
              "      <td>199</td>\n",
              "      <td>5.0</td>\n",
              "      <td>1</td>\n",
              "      <td>Pakistan</td>\n",
              "    </tr>\n",
              "    <tr>\n",
              "      <th>4</th>\n",
              "      <td>Universal Soft Silicon Mobile Case/ Elastic Cover</td>\n",
              "      <td>No</td>\n",
              "      <td>225</td>\n",
              "      <td>225</td>\n",
              "      <td>4.9</td>\n",
              "      <td>92</td>\n",
              "      <td>Pakistan</td>\n",
              "    </tr>\n",
              "  </tbody>\n",
              "</table>\n",
              "</div>"
            ],
            "text/plain": [
              "                                                Name Daraz Mall?  \\\n",
              "0  Vantime for Xiaomi Redmi Note 10 Pro Case Hybr...         Yes   \n",
              "1  Vantime for Xiaomi POCO X3 Pro / POCO X3 NFC B...         Yes   \n",
              "2             CUSTOMIZED MOBILE COVER FOR ALL MODELS          No   \n",
              "3                            WATERPROOF MOBILE COVER          No   \n",
              "4  Universal Soft Silicon Mobile Case/ Elastic Cover          No   \n",
              "\n",
              "  Original Price  Discounted Price  Rating  Reviews Seller Country  \n",
              "0           1009              1009     4.0       21          China  \n",
              "1           1099              1009     4.0       43          China  \n",
              "2            999               450     4.9        7       Pakistan  \n",
              "3            299               199     5.0        1       Pakistan  \n",
              "4            225               225     4.9       92       Pakistan  "
            ]
          },
          "execution_count": 8,
          "metadata": {},
          "output_type": "execute_result"
        }
      ],
      "source": [
        "df"
      ]
    }
  ],
  "metadata": {
    "kernelspec": {
      "display_name": "Python 3 (ipykernel)",
      "language": "python",
      "name": "python3"
    },
    "language_info": {
      "codemirror_mode": {
        "name": "ipython",
        "version": 3
      },
      "file_extension": ".py",
      "mimetype": "text/x-python",
      "name": "python",
      "nbconvert_exporter": "python",
      "pygments_lexer": "ipython3",
      "version": "3.8.10"
    },
    "colab": {
      "provenance": []
    }
  },
  "nbformat": 4,
  "nbformat_minor": 0
}